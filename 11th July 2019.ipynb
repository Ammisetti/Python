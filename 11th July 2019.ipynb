{
 "cells": [
  {
   "cell_type": "markdown",
   "metadata": {},
   "source": [
    "### Standard Libraries :\n",
    "- File I/O\n",
    "- Regular Expression\n",
    "- Datetime\n",
    "- Math(numrical and Mathematical)"
   ]
  },
  {
   "cell_type": "markdown",
   "metadata": {},
   "source": [
    "### File Handling in Python \n",
    "- File :- Document containing information resides on the permanent storage\n",
    "- Differen types of files :- txt,doc,pdf,csv and etc..."
   ]
  },
  {
   "cell_type": "markdown",
   "metadata": {},
   "source": [
    "### Fiel Handling in Python : \n",
    "- File :- Document containinif information resides on the permanent storage\n",
    "- Different types of files :- txt,doc,csv,pdf and etc....\n",
    "- Input -- Keyboard\n",
    "- Output -- File\n",
    "### Modes of the File I/O : \n",
    "- 'w' -- This mode is used to file writing\n",
    "        -- If the file is not present first it creates the file and send data to it\n",
    "        -- If the file is already persent then it will rewrite the previous content"
   ]
  },
  {
   "cell_type": "code",
   "execution_count": 10,
   "metadata": {},
   "outputs": [
    {
     "name": "stdout",
     "output_type": "stream",
     "text": [
      "File is created and data has written\n"
     ]
    }
   ],
   "source": [
    "# Function to create a file and write to the file\n",
    "def createFile(filename) :\n",
    "    f = open(filename,'w')\n",
    "    for i in range(10):\n",
    "        f.write('This is %d LIne \\n' % i)\n",
    "    print(\"File is created and data has written\")\n",
    "    return\n",
    "createFile('file1.txt')"
   ]
  },
  {
   "cell_type": "code",
   "execution_count": 11,
   "metadata": {},
   "outputs": [
    {
     "name": "stdout",
     "output_type": "stream",
     "text": [
      " Volume in drive C is OS\n",
      " Volume Serial Number is E0E7-F83F\n",
      "\n",
      " Directory of C:\\Users\\Surya\\Python1\n",
      "\n",
      "11-07-2019  09:37    <DIR>          .\n",
      "11-07-2019  09:37    <DIR>          ..\n",
      "11-07-2019  09:11    <DIR>          .ipynb_checkpoints\n",
      "10-07-2019  16:33            22,191 10th July 2019.ipynb\n",
      "11-07-2019  09:37             3,719 11th July 2019.ipynb\n",
      "05-07-2019  11:01                72 5-7-19.ipynb\n",
      "05-07-2019  16:06             7,524 5th July 2019 Python Intro.ipynb\n",
      "05-07-2019  18:56             7,133 5th July Examples.ipynb\n",
      "08-07-2019  20:12            11,956 6th July 2019.ipynb\n",
      "09-07-2019  07:33            14,352 8th July 2019.ipynb\n",
      "09-07-2019  17:06            18,946 9th July 2019.ipynb\n",
      "11-07-2019  09:16             6,659 Assignment of 10th July 2019.ipynb\n",
      "11-07-2019  09:39               170 file1.txt\n",
      "09-07-2019  07:19    <DIR>          Rapter\n",
      "10-01-2019  14:54             1,715 Untitled.ipynb\n",
      "10-01-2019  15:16             2,692 Untitled1.ipynb\n",
      "25-06-2019  12:38                72 Untitled10.ipynb\n",
      "              13 File(s)         97,201 bytes\n",
      "               4 Dir(s)  877,951,086,592 bytes free\n"
     ]
    }
   ],
   "source": [
    "ls"
   ]
  },
  {
   "cell_type": "code",
   "execution_count": 14,
   "metadata": {},
   "outputs": [
    {
     "name": "stdout",
     "output_type": "stream",
     "text": [
      "File is created and data has written\n"
     ]
    }
   ],
   "source": [
    "def createFile(filename) :\n",
    "    f = open(filename,'w')\n",
    "    f.write('Testing...\\n')\n",
    "    print(\"File is created and data has written\")\n",
    "    return\n",
    "createFile('file1.txt')"
   ]
  },
  {
   "cell_type": "code",
   "execution_count": 16,
   "metadata": {},
   "outputs": [
    {
     "name": "stdout",
     "output_type": "stream",
     "text": [
      "File created and successfully data written\n"
     ]
    }
   ],
   "source": [
    "def appendData(filename):\n",
    "    f = open(filename,'a')\n",
    "    for i in range(10):\n",
    "        f.write(\"This is %d line\\n\"% i)\n",
    "    print(\"File created and successfully data written\")\n",
    "    return\n",
    "appendData('file2.txt')"
   ]
  },
  {
   "cell_type": "code",
   "execution_count": 17,
   "metadata": {},
   "outputs": [
    {
     "name": "stdout",
     "output_type": "stream",
     "text": [
      "File created and successfully data written\n"
     ]
    }
   ],
   "source": [
    "def appendData(filename):\n",
    "    f = open(filename,'a')\n",
    "    f.write(\"New Line 1...\\n\")\n",
    "    f.write(\"New Line 2...\\n\")\n",
    "    print(\"File created and successfully data written\")\n",
    "    return\n",
    "appendData('file2.txt')"
   ]
  },
  {
   "cell_type": "code",
   "execution_count": 19,
   "metadata": {},
   "outputs": [
    {
     "name": "stdout",
     "output_type": "stream",
     "text": [
      "This is 0 line\n",
      "This is 1 line\n",
      "This is 2 line\n",
      "This is 3 line\n",
      "This is 4 line\n",
      "This is 5 line\n",
      "This is 6 line\n",
      "This is 7 line\n",
      "This is 8 line\n",
      "This is 9 line\n",
      "New Line 1...\n",
      "New Line 2...\n",
      "\n"
     ]
    }
   ],
   "source": [
    "# Function to read of the file \n",
    "def readFileData(filename):\n",
    "    f = open(filename,'r')\n",
    "    if f.mode == 'r':\n",
    "        x = f.read()\n",
    "        print(x)\n",
    "    f.close()\n",
    "    return\n",
    "readFileData('file2.txt')"
   ]
  },
  {
   "cell_type": "code",
   "execution_count": 4,
   "metadata": {},
   "outputs": [
    {
     "name": "stdout",
     "output_type": "stream",
     "text": [
      "Enter the file namedata.txt\n",
      "Enter the mode of the filer\n",
      "Data to the fileData to the file\n",
      "\n"
     ]
    }
   ],
   "source": [
    "# Function to read the file \n",
    "def fileOperations(filename,mode):\n",
    "    with open(filename,mode) as f:\n",
    "        if f.mode == 'r':\n",
    "            data = f.read()\n",
    "            print(data)\n",
    "        elif f.mode == 'a':\n",
    "            f.write('Data to the file\\n')\n",
    "            print('The data successfully written')\n",
    "    f.close()\n",
    "    return\n",
    "filename = input('Enter the file name')\n",
    "mode = input('Enter the mode of the file')\n",
    "fileOperations(filename,mode)"
   ]
  },
  {
   "cell_type": "code",
   "execution_count": 1,
   "metadata": {},
   "outputs": [
    {
     "name": "stdout",
     "output_type": "stream",
     "text": [
      "Enter the file name : file2.txt\n",
      "Enter the word : This\n"
     ]
    },
    {
     "data": {
      "text/plain": [
       "10"
      ]
     },
     "execution_count": 1,
     "metadata": {},
     "output_type": "execute_result"
    }
   ],
   "source": [
    "# Data Analysis\n",
    "# Word Count Program \n",
    "def wordCount(filename,word):\n",
    "    with open(filename,'r') as f :\n",
    "        if f.mode == 'r':\n",
    "            x = f.read()\n",
    "            li = x.split() # It's splits the string with whitespace\n",
    "    cnt = li.count(word)\n",
    "    return cnt\n",
    "filename = input('Enter the file name : ')\n",
    "word = input('Enter the word : ') # Which word count you need\n",
    "wordCount(filename,word)"
   ]
  },
  {
   "cell_type": "code",
   "execution_count": 2,
   "metadata": {},
   "outputs": [
    {
     "name": "stdout",
     "output_type": "stream",
     "text": [
      "Enter the filename : file2.txt\n"
     ]
    },
    {
     "data": {
      "text/plain": [
       "178"
      ]
     },
     "execution_count": 2,
     "metadata": {},
     "output_type": "execute_result"
    }
   ],
   "source": [
    "# Character count from the given file\n",
    "def charCount(filename):\n",
    "    with open (filename,'r') as f:\n",
    "        if f.mode == 'r':\n",
    "            x = f.read()\n",
    "            li = list(x) # It's splits the string with whitespaces\n",
    "    return len(li)\n",
    "filename = input('Enter the filename : ')\n",
    "charCount(filename)"
   ]
  },
  {
   "cell_type": "code",
   "execution_count": 4,
   "metadata": {},
   "outputs": [
    {
     "name": "stdout",
     "output_type": "stream",
     "text": [
      "Enter the filename : file2.txt\n"
     ]
    },
    {
     "data": {
      "text/plain": [
       "12"
      ]
     },
     "execution_count": 4,
     "metadata": {},
     "output_type": "execute_result"
    }
   ],
   "source": [
    "# Function to find the no of lines in the input file\n",
    "# Input -- filename(file2.txt)\n",
    "# Ouput -- No of lines(12)\n",
    "def lineCount(filename):\n",
    "    with open(filename,'r') as f:\n",
    "        if f.mode == 'r':\n",
    "            x = f.read()\n",
    "            li = x.split(\"\\n\")\n",
    "    return len(li)\n",
    "filename = input('Enter the filename : ')\n",
    "lineCount(filename)"
   ]
  },
  {
   "cell_type": "code",
   "execution_count": 7,
   "metadata": {},
   "outputs": [
    {
     "name": "stdout",
     "output_type": "stream",
     "text": [
      "Enter thee filename :file2.txt\n"
     ]
    },
    {
     "data": {
      "text/plain": [
       "'Upper Case = 14, Lower Case = 100'"
      ]
     },
     "execution_count": 7,
     "metadata": {},
     "output_type": "execute_result"
    }
   ],
   "source": [
    "# Function to print the Upper and Lower characters\n",
    "def caseCount(filename):\n",
    "    cntUpper = 0\n",
    "    cntLower = 0\n",
    "    with open(filename,'r')as f:\n",
    "        if f.mode == 'r':\n",
    "            x = f.read()\n",
    "            li = list(x)\n",
    "    for i in li:\n",
    "        if i.isupper():\n",
    "            cntUpper += 1 # cntUpper = cntUpper + 1\n",
    "        elif i.islower():\n",
    "            cntLower += 1 # cntLower = cntLower + 1\n",
    "        output = 'Upper Case = {0}, Lower Case = {1}'.format(cntUpper,cntLower)\n",
    "    return output\n",
    "filename = input('Enter the filename :')\n",
    "caseCount(filename)"
   ]
  },
  {
   "cell_type": "markdown",
   "metadata": {},
   "source": [
    "### math, random, os\n",
    "- os package it contains the certains methods which works with os"
   ]
  },
  {
   "cell_type": "code",
   "execution_count": 8,
   "metadata": {},
   "outputs": [
    {
     "name": "stdout",
     "output_type": "stream",
     "text": [
      " Volume in drive C is OS\n",
      " Volume Serial Number is E0E7-F83F\n",
      "\n",
      " Directory of C:\\Users\\Surya\\Python1\n",
      "\n",
      "11-07-2019  12:26    <DIR>          .\n",
      "11-07-2019  12:26    <DIR>          ..\n",
      "11-07-2019  09:11    <DIR>          .ipynb_checkpoints\n",
      "11-07-2019  11:20            22,191 10th July 2019.ipynb\n",
      "11-07-2019  12:26            10,933 11th July 2019.ipynb\n",
      "05-07-2019  11:01                72 5-7-19.ipynb\n",
      "05-07-2019  16:06             7,524 5th July 2019 Python Intro.ipynb\n",
      "05-07-2019  18:56             7,133 5th July Examples.ipynb\n",
      "08-07-2019  20:12            11,956 6th July 2019.ipynb\n",
      "09-07-2019  07:33            14,352 8th July 2019.ipynb\n",
      "09-07-2019  17:06            18,946 9th July 2019.ipynb\n",
      "11-07-2019  09:16             6,659 Assignment of 10th July 2019.ipynb\n",
      "11-07-2019  10:26                34 data.txt\n",
      "11-07-2019  09:47                12 file1.txt\n",
      "11-07-2019  11:58               177 file2.txt\n",
      "09-07-2019  07:19    <DIR>          Rapter\n",
      "10-01-2019  14:54             1,715 Untitled.ipynb\n",
      "10-01-2019  15:16             2,692 Untitled1.ipynb\n",
      "25-06-2019  12:38                72 Untitled10.ipynb\n",
      "              15 File(s)        104,468 bytes\n",
      "               4 Dir(s)  877,986,648,064 bytes free\n"
     ]
    }
   ],
   "source": [
    "ls "
   ]
  },
  {
   "cell_type": "code",
   "execution_count": 10,
   "metadata": {},
   "outputs": [
    {
     "name": "stdout",
     "output_type": "stream",
     "text": [
      "C:\\Users\\Surya\n"
     ]
    }
   ],
   "source": [
    "cd .."
   ]
  },
  {
   "cell_type": "code",
   "execution_count": 11,
   "metadata": {},
   "outputs": [
    {
     "name": "stdout",
     "output_type": "stream",
     "text": [
      "C:\\Users\\Surya\\Desktop\\psp\\Git\n"
     ]
    }
   ],
   "source": [
    "cd Desktop/psp/Git"
   ]
  },
  {
   "cell_type": "code",
   "execution_count": 13,
   "metadata": {},
   "outputs": [
    {
     "name": "stdout",
     "output_type": "stream",
     "text": [
      " Volume in drive C is OS\n",
      " Volume Serial Number is E0E7-F83F\n",
      "\n",
      " Directory of C:\\Users\\Surya\\Desktop\\psp\\Git\n",
      "\n",
      "05-07-2019  09:43    <DIR>          .\n",
      "05-07-2019  09:43    <DIR>          ..\n",
      "05-07-2019  09:24                38 data.txt\n",
      "04-07-2019  10:53               196 file1.txt\n",
      "05-07-2019  09:43    <DIR>          Gitam-Python\n",
      "04-07-2019  14:56    <DIR>          test2\n",
      "               2 File(s)            234 bytes\n",
      "               4 Dir(s)  877,986,435,072 bytes free\n"
     ]
    }
   ],
   "source": [
    "ls"
   ]
  },
  {
   "cell_type": "code",
   "execution_count": 16,
   "metadata": {},
   "outputs": [
    {
     "name": "stdout",
     "output_type": "stream",
     "text": [
      "C:\\Users\\Surya\\Desktop\\psp\n"
     ]
    }
   ],
   "source": [
    "cd .."
   ]
  },
  {
   "cell_type": "code",
   "execution_count": 17,
   "metadata": {},
   "outputs": [
    {
     "data": {
      "text/plain": [
       "['.git', 'data.txt', 'file1.txt', 'Gitam-Python', 'test2']"
      ]
     },
     "execution_count": 17,
     "metadata": {},
     "output_type": "execute_result"
    }
   ],
   "source": [
    "import os\n",
    "os.listdir('Git/')"
   ]
  },
  {
   "cell_type": "code",
   "execution_count": 19,
   "metadata": {},
   "outputs": [
    {
     "name": "stdout",
     "output_type": "stream",
     "text": [
      "C:\\Surya\n"
     ]
    }
   ],
   "source": [
    "cd \\Surya"
   ]
  },
  {
   "cell_type": "code",
   "execution_count": 20,
   "metadata": {},
   "outputs": [
    {
     "name": "stdout",
     "output_type": "stream",
     "text": [
      " Volume in drive C is OS\n",
      " Volume Serial Number is E0E7-F83F\n",
      "\n",
      " Directory of C:\\Surya\n",
      "\n",
      "03-06-2019  08:10    <DIR>          .\n",
      "03-06-2019  08:10    <DIR>          ..\n",
      "09-05-2018  10:21                 0 A.lakshmi purnima.txt\n",
      "10-01-2019  16:44     1,771,315,783 Agnyaathavaasi (2018) Telugu True WEB-HD - 1080p - UNTOUCHED - AAC - 1.6GB.mp4\n",
      "25-10-2018  22:30     1,027,875,397 Ant man and the wasp.mp4\n",
      "12-05-2018  22:01    <DIR>          BTech\n",
      "17-03-2019  23:56     1,266,162,179 doctor-strange-1080p.mp4\n",
      "20-11-2018  23:15     1,136,903,433 GHAZE2017RIPA1.mkv.mp4\n",
      "10-01-2019  16:42       722,469,101 Gopala Gopala (2015) WEBDL Telugu\n",
      "09-06-2018  09:57         1,576,909 IMG20180609095752.jpg\n",
      "13-06-2018  18:17         1,895,200 IMG20180613181759.jpg\n",
      "14-01-2019  15:09    <DIR>          LAND DETAILS\n",
      "09-05-2018  10:04             1,019 New Text Document.txt\n",
      "12-11-2018  21:31       629,472,741 Sui Dhaaga Made in India (2018) Hindi 700MB.mkv.crdownload\n",
      "06-03-2019  22:32       814,835,690 www.2MovieRulz.gs - Spider-Man Into the Spider-Verse (2018) 720p Proper HDRip - x264 - MP3 - 800MB - ESub.mkv.mp4\n",
      "14-05-2019  20:52     1,003,613,139 www.2MovieRulz.ms - Majili (2019) 720p Telugu Proper HDRip x264 MP3 900MB ESub.mkv.mp4\n",
      "01-06-2019  17:14       971,952,960 www.2MovieRulz.mx - Chitralahari (2019) 720p Telugu Proper HDRip x264 MP3 900MB ESub.mkv.mp4\n",
      "12-02-2019  07:55       947,490,139 www.2MovieRulz.tv - F2 Fun and Frustration (2019) 720p Telugu Proper HDRip x264 MP3 900MB ESub.mkv.mp4\n",
      "06-02-2019  21:22       964,203,160 www.2MovieRulz.tv - K.G.F Chapter 1 (2018) 720p Telugu Proper HDRip x264 MP3 900MB ESub.mkv.mp4\n",
      "09-03-2019  18:33       711,640,947 www.2MovieRulz.tv - Ninnu Kori (2017) Telugu Proper HDRip x264 MP3 700MB MSub.mkv.mp4\n",
      "30-09-2018  18:36     1,459,083,163 www.movierulz.at - Dhruva (2016) 720p Telugu HDRip 1.4 GB.mkv\n",
      "03-10-2018  12:02       736,724,759 www.movierulz.at - MCA - Middle Class Abbayi (2017) v2 Telugu HDRip 700 MB.mkv.mp4\n",
      "28-11-2018  01:14       758,472,728 www.MovieRulz.ht - Taxiwaala (2018) Telugu DVDScr x264 MP3 700MB.mkv.mp4\n",
      "20-10-2018  12:05     1,385,187,361 www.MovieRulz.st - Aravinda Sametha (2018) 720p Telugu DVDScr x264 MP3 1.3GB.mkv\n",
      "15-09-2018  21:15    <DIR>          www.MovieRulz.vc - Shailaja Reddy Alludu (2018) Telugu DVDScr x264 MP3 700MB.mkv\n",
      "15-09-2018  21:15    <DIR>          www.MovieRulz.vc - U Turn (2018) Telugu DVDScr x264 MP3 700MB.mkv\n",
      "              20 File(s) 16,310,875,808 bytes\n",
      "               6 Dir(s)  877,985,497,088 bytes free\n"
     ]
    }
   ],
   "source": [
    "ls"
   ]
  },
  {
   "cell_type": "code",
   "execution_count": 21,
   "metadata": {},
   "outputs": [
    {
     "name": "stdout",
     "output_type": "stream",
     "text": [
      "C:\\\n"
     ]
    }
   ],
   "source": [
    "cd \\"
   ]
  },
  {
   "cell_type": "code",
   "execution_count": 22,
   "metadata": {},
   "outputs": [
    {
     "name": "stdout",
     "output_type": "stream",
     "text": [
      "C:\\Users\\Surya\\Python1\n"
     ]
    }
   ],
   "source": [
    "cd \\Users\\Surya\\Python1"
   ]
  },
  {
   "cell_type": "code",
   "execution_count": 23,
   "metadata": {},
   "outputs": [
    {
     "name": "stdout",
     "output_type": "stream",
     "text": [
      "Enter the filename :file2.txt\n"
     ]
    },
    {
     "data": {
      "text/plain": [
       "'Upper Case = 14, Lower Case = 100'"
      ]
     },
     "execution_count": 23,
     "metadata": {},
     "output_type": "execute_result"
    }
   ],
   "source": [
    "# Function to print the Upper and Lower characters\n",
    "def caseCount(filename):\n",
    "    cntUpper = 0\n",
    "    cntLower = 0\n",
    "    with open(filename,'r')as f:\n",
    "        if f.mode == 'r':\n",
    "            x = f.read()\n",
    "            li = list(x)\n",
    "    for i in li:\n",
    "        if i.isupper():\n",
    "            cntUpper += 1 # cntUpper = cntUpper + 1\n",
    "        elif i.islower():\n",
    "            cntLower += 1 # cntLower = cntLower + 1\n",
    "        output = 'Upper Case = {0}, Lower Case = {1}'.format(cntUpper,cntLower)\n",
    "    return output\n",
    "filename = input('Enter the filename :')\n",
    "caseCount(filename)"
   ]
  },
  {
   "cell_type": "markdown",
   "metadata": {},
   "source": [
    "- Older version Python -- os.listdir()\n",
    "- New Version Python -- os.scandir() and pathlib.Path()"
   ]
  },
  {
   "cell_type": "code",
   "execution_count": 32,
   "metadata": {},
   "outputs": [
    {
     "name": "stdout",
     "output_type": "stream",
     "text": [
      " Volume in drive C is OS\n",
      " Volume Serial Number is E0E7-F83F\n",
      "\n",
      " Directory of C:\\Users\\Surya\\Python1\n",
      "\n",
      "11-07-2019  12:54    <DIR>          .\n",
      "11-07-2019  12:54    <DIR>          ..\n",
      "11-07-2019  09:11    <DIR>          .ipynb_checkpoints\n",
      "11-07-2019  11:20            22,191 10th July 2019.ipynb\n",
      "11-07-2019  12:54            23,330 11th July 2019.ipynb\n",
      "05-07-2019  11:01                72 5-7-19.ipynb\n",
      "05-07-2019  16:06             7,524 5th July 2019 Python Intro.ipynb\n",
      "05-07-2019  18:56             7,133 5th July Examples.ipynb\n",
      "08-07-2019  20:12            11,956 6th July 2019.ipynb\n",
      "09-07-2019  07:33            14,352 8th July 2019.ipynb\n",
      "09-07-2019  17:06            18,946 9th July 2019.ipynb\n",
      "11-07-2019  09:16             6,659 Assignment of 10th July 2019.ipynb\n",
      "11-07-2019  10:26                34 data.txt\n",
      "11-07-2019  09:47                12 file1.txt\n",
      "11-07-2019  11:58               177 file2.txt\n",
      "09-07-2019  07:19    <DIR>          Rapter\n",
      "10-01-2019  14:54             1,715 Untitled.ipynb\n",
      "10-01-2019  15:16             2,692 Untitled1.ipynb\n",
      "25-06-2019  12:38                72 Untitled10.ipynb\n",
      "              15 File(s)        116,865 bytes\n",
      "               4 Dir(s)  877,985,746,944 bytes free\n"
     ]
    }
   ],
   "source": [
    "ls"
   ]
  },
  {
   "cell_type": "markdown",
   "metadata": {},
   "source": [
    "### Listing all files in a directory :"
   ]
  },
  {
   "cell_type": "code",
   "execution_count": 20,
   "metadata": {},
   "outputs": [
    {
     "name": "stdout",
     "output_type": "stream",
     "text": [
      "C:\\Users\\Surya\n"
     ]
    }
   ],
   "source": [
    "cd .."
   ]
  },
  {
   "cell_type": "code",
   "execution_count": 22,
   "metadata": {},
   "outputs": [
    {
     "name": "stdout",
     "output_type": "stream",
     "text": [
      "10th July 2019.ipynb\n",
      "11th July 2019.ipynb\n",
      "5-7-19.ipynb\n",
      "5th July 2019 Python Intro.ipynb\n",
      "5th July Examples.ipynb\n",
      "6th July 2019.ipynb\n",
      "8th July 2019.ipynb\n",
      "9th July 2019.ipynb\n",
      "Assignment of 10th July 2019.ipynb\n",
      "data.txt\n",
      "file1.txt\n",
      "file2.txt\n",
      "Untitled.ipynb\n",
      "Untitled1.ipynb\n",
      "Untitled10.ipynb\n"
     ]
    }
   ],
   "source": [
    "import os\n",
    "dirPath = \"Python1/\"\n",
    "for i in os.listdir(dirPath):\n",
    "    if os.path.isfile(os.path.join(dirPath,i)):\n",
    "        print(i)"
   ]
  },
  {
   "cell_type": "code",
   "execution_count": 25,
   "metadata": {},
   "outputs": [
    {
     "name": "stdout",
     "output_type": "stream",
     "text": [
      "10th July 2019.ipynb\n",
      "11th July 2019.ipynb\n",
      "5-7-19.ipynb\n",
      "5th July 2019 Python Intro.ipynb\n",
      "5th July Examples.ipynb\n",
      "6th July 2019.ipynb\n",
      "8th July 2019.ipynb\n",
      "9th July 2019.ipynb\n",
      "Assignment of 10th July 2019.ipynb\n",
      "data.txt\n",
      "file1.txt\n",
      "file2.txt\n",
      "Untitled.ipynb\n",
      "Untitled1.ipynb\n",
      "Untitled10.ipynb\n"
     ]
    }
   ],
   "source": [
    "dirPath = 'Python1/'\n",
    "with os.scandir(dirPath) as f:\n",
    "    for i in f:\n",
    "        if i.is_file():\n",
    "            print(i.name)"
   ]
  },
  {
   "cell_type": "markdown",
   "metadata": {},
   "source": [
    "### Listing Subdirectories :"
   ]
  },
  {
   "cell_type": "code",
   "execution_count": 27,
   "metadata": {},
   "outputs": [
    {
     "name": "stdout",
     "output_type": "stream",
     "text": [
      ".ipynb_checkpoints\n",
      "Rapter\n"
     ]
    }
   ],
   "source": [
    "dirPath = 'Python1/'\n",
    "for i in os.listdir(dirPath):\n",
    "    if os.path.isdir(os.path.join(dirPath,i)):\n",
    "        print(i)"
   ]
  },
  {
   "cell_type": "code",
   "execution_count": 28,
   "metadata": {},
   "outputs": [
    {
     "name": "stdout",
     "output_type": "stream",
     "text": [
      ".ipynb_checkpoints\n",
      "Rapter\n"
     ]
    }
   ],
   "source": [
    "from pathlib import Path\n",
    "dirPath = Path('Python1/')\n",
    "for i in dirPath.iterdir():\n",
    "    if i.is_dir():\n",
    "        print(i.name)"
   ]
  },
  {
   "cell_type": "code",
   "execution_count": 30,
   "metadata": {},
   "outputs": [
    {
     "name": "stdout",
     "output_type": "stream",
     "text": [
      ".ipynb_checkpoints\n",
      "Rapter\n"
     ]
    }
   ],
   "source": [
    "dirPath = 'Python1/'\n",
    "with os.scandir(dirPath) as f :\n",
    "    for i in f :\n",
    "        if i.is_dir():\n",
    "            print(i.name)"
   ]
  },
  {
   "cell_type": "markdown",
   "metadata": {},
   "source": [
    "### Creating a Single Directory"
   ]
  },
  {
   "cell_type": "code",
   "execution_count": 35,
   "metadata": {},
   "outputs": [
    {
     "ename": "FileExistsError",
     "evalue": "[WinError 183] Cannot create a file when that file already exists: 'SingleDirectory'",
     "output_type": "error",
     "traceback": [
      "\u001b[1;31m---------------------------------------------------------------------------\u001b[0m",
      "\u001b[1;31mFileExistsError\u001b[0m                           Traceback (most recent call last)",
      "\u001b[1;32m<ipython-input-35-74cba89addaa>\u001b[0m in \u001b[0;36m<module>\u001b[1;34m\u001b[0m\n\u001b[0;32m      1\u001b[0m \u001b[1;32mimport\u001b[0m \u001b[0mos\u001b[0m\u001b[1;33m\u001b[0m\u001b[1;33m\u001b[0m\u001b[0m\n\u001b[1;32m----> 2\u001b[1;33m \u001b[0mos\u001b[0m\u001b[1;33m.\u001b[0m\u001b[0mmkdir\u001b[0m\u001b[1;33m(\u001b[0m\u001b[1;34m'SingleDirectory'\u001b[0m\u001b[1;33m)\u001b[0m\u001b[1;33m\u001b[0m\u001b[1;33m\u001b[0m\u001b[0m\n\u001b[0m",
      "\u001b[1;31mFileExistsError\u001b[0m: [WinError 183] Cannot create a file when that file already exists: 'SingleDirectory'"
     ]
    }
   ],
   "source": [
    "import os\n",
    "os.mkdir('SingleDirectory')  # Error is due to SingleDirectory already exsists"
   ]
  },
  {
   "cell_type": "code",
   "execution_count": 37,
   "metadata": {},
   "outputs": [],
   "source": [
    "import pathlib\n",
    "p = pathlib.Path('Test Folder') # Folder is Created\n",
    "p.mkdir()"
   ]
  },
  {
   "cell_type": "code",
   "execution_count": 38,
   "metadata": {},
   "outputs": [
    {
     "name": "stdout",
     "output_type": "stream",
     "text": [
      " Volume in drive C is OS\n",
      " Volume Serial Number is E0E7-F83F\n",
      "\n",
      " Directory of C:\\Users\\Surya\n",
      "\n",
      "11-07-2019  14:48    <DIR>          .\n",
      "11-07-2019  14:48    <DIR>          ..\n",
      "02-03-2019  13:46    <DIR>          .anaconda\n",
      "08-07-2019  22:51    <DIR>          .atom\n",
      "05-07-2019  09:12             3,663 .bash_history\n",
      "05-07-2019  19:06    <DIR>          .conda\n",
      "05-07-2019  18:25                43 .condarc\n",
      "10-01-2019  11:54    <DIR>          .idlerc\n",
      "08-07-2019  19:22    <DIR>          .ipynb_checkpoints\n",
      "10-01-2019  14:32    <DIR>          .ipython\n",
      "08-07-2019  22:03    <DIR>          .jupyter\n",
      "10-01-2019  15:24    <DIR>          .matplotlib\n",
      "23-05-2019  21:10    <DIR>          .pylint.d\n",
      "28-05-2019  21:18    <DIR>          .spyder-py3\n",
      "09-01-2019  18:19    <DIR>          .vscode\n",
      "05-07-2019  11:03               555 5-7-19.ipynb\n",
      "02-05-2019  12:44    <DIR>          Anaconda3\n",
      "02-10-2018  11:21            14,050 ASSIGNMENT 'C' PIN NUM 02.docx\n",
      "13-05-2018  15:23    <DIR>          BITSAT PREVIOUS PAPERS\n",
      "11-08-2018  18:08    <DIR>          Blood Pressure\n",
      "19-03-2018  08:30        98,917,376 CENGAGE APP.msi\n",
      "16-06-2019  14:12    <DIR>          Contacts\n",
      "10-07-2019  18:52    <DIR>          Desktop\n",
      "21-06-2019  11:44    <DIR>          Documents\n",
      "11-07-2019  10:24    <DIR>          Downloads\n",
      "29-06-2018  19:24    <DIR>          gitam\n",
      "12-06-2018  09:50    <DIR>          LAKSHMI\n",
      "16-06-2019  14:12    <DIR>          Links\n",
      "29-06-2018  19:04                 0 mkdir\n",
      "16-06-2019  14:12    <DIR>          Music\n",
      "21-06-2019  17:04    <DIR>          Pictures\n",
      "14-05-2018  16:23    <DIR>          Practice Exercise\n",
      "04-07-2019  10:11    <DIR>          psp\n",
      "06-05-2019  11:02                 0 python\n",
      "11-07-2019  14:50    <DIR>          Python1\n",
      "17-03-2013  22:41    <DIR>          Roaming\n",
      "16-06-2019  14:12    <DIR>          Searches\n",
      "11-07-2019  14:45    <DIR>          SingleDirectory\n",
      "11-07-2019  14:48    <DIR>          Test Folder\n",
      "08-07-2019  19:16                72 Untitled.ipynb\n",
      "08-07-2019  19:22                72 Untitled1.ipynb\n",
      "26-06-2019  09:18                72 Untitled11.ipynb\n",
      "26-06-2019  15:09            10,181 Untitled12.ipynb\n",
      "10-01-2019  15:29             6,161 Untitled2.ipynb\n",
      "21-06-2019  15:17               686 Untitled3.ipynb\n",
      "21-06-2019  16:39             2,234 Untitled4.ipynb\n",
      "21-06-2019  16:43                72 Untitled5.ipynb\n",
      "22-06-2019  10:45             3,309 Untitled6.ipynb\n",
      "22-06-2019  09:41                72 Untitled7.ipynb\n",
      "25-06-2019  14:54            12,915 Untitled8.ipynb\n",
      "25-06-2019  09:19                72 Untitled9.ipynb\n",
      "16-06-2019  14:12    <DIR>          Videos\n",
      "              19 File(s)     98,971,605 bytes\n",
      "              33 Dir(s)  877,978,722,304 bytes free\n"
     ]
    }
   ],
   "source": [
    "ls"
   ]
  },
  {
   "cell_type": "markdown",
   "metadata": {},
   "source": [
    "### Creating Multiple Directories"
   ]
  },
  {
   "cell_type": "code",
   "execution_count": 39,
   "metadata": {},
   "outputs": [],
   "source": [
    "import os\n",
    "os.makedirs('2019/july/11')"
   ]
  },
  {
   "cell_type": "code",
   "execution_count": 40,
   "metadata": {},
   "outputs": [
    {
     "name": "stdout",
     "output_type": "stream",
     "text": [
      " Volume in drive C is OS\n",
      " Volume Serial Number is E0E7-F83F\n",
      "\n",
      " Directory of C:\\Users\\Surya\n",
      "\n",
      "11-07-2019  15:00    <DIR>          .\n",
      "11-07-2019  15:00    <DIR>          ..\n",
      "02-03-2019  13:46    <DIR>          .anaconda\n",
      "08-07-2019  22:51    <DIR>          .atom\n",
      "05-07-2019  09:12             3,663 .bash_history\n",
      "05-07-2019  19:06    <DIR>          .conda\n",
      "05-07-2019  18:25                43 .condarc\n",
      "10-01-2019  11:54    <DIR>          .idlerc\n",
      "08-07-2019  19:22    <DIR>          .ipynb_checkpoints\n",
      "10-01-2019  14:32    <DIR>          .ipython\n",
      "08-07-2019  22:03    <DIR>          .jupyter\n",
      "10-01-2019  15:24    <DIR>          .matplotlib\n",
      "23-05-2019  21:10    <DIR>          .pylint.d\n",
      "28-05-2019  21:18    <DIR>          .spyder-py3\n",
      "09-01-2019  18:19    <DIR>          .vscode\n",
      "11-07-2019  15:00    <DIR>          2019\n",
      "05-07-2019  11:03               555 5-7-19.ipynb\n",
      "02-05-2019  12:44    <DIR>          Anaconda3\n",
      "02-10-2018  11:21            14,050 ASSIGNMENT 'C' PIN NUM 02.docx\n",
      "13-05-2018  15:23    <DIR>          BITSAT PREVIOUS PAPERS\n",
      "11-08-2018  18:08    <DIR>          Blood Pressure\n",
      "19-03-2018  08:30        98,917,376 CENGAGE APP.msi\n",
      "16-06-2019  14:12    <DIR>          Contacts\n",
      "10-07-2019  18:52    <DIR>          Desktop\n",
      "21-06-2019  11:44    <DIR>          Documents\n",
      "11-07-2019  10:24    <DIR>          Downloads\n",
      "29-06-2018  19:24    <DIR>          gitam\n",
      "12-06-2018  09:50    <DIR>          LAKSHMI\n",
      "16-06-2019  14:12    <DIR>          Links\n",
      "29-06-2018  19:04                 0 mkdir\n",
      "16-06-2019  14:12    <DIR>          Music\n",
      "21-06-2019  17:04    <DIR>          Pictures\n",
      "14-05-2018  16:23    <DIR>          Practice Exercise\n",
      "04-07-2019  10:11    <DIR>          psp\n",
      "06-05-2019  11:02                 0 python\n",
      "11-07-2019  15:00    <DIR>          Python1\n",
      "17-03-2013  22:41    <DIR>          Roaming\n",
      "16-06-2019  14:12    <DIR>          Searches\n",
      "11-07-2019  14:45    <DIR>          SingleDirectory\n",
      "11-07-2019  14:48    <DIR>          Test Folder\n",
      "08-07-2019  19:16                72 Untitled.ipynb\n",
      "08-07-2019  19:22                72 Untitled1.ipynb\n",
      "26-06-2019  09:18                72 Untitled11.ipynb\n",
      "26-06-2019  15:09            10,181 Untitled12.ipynb\n",
      "10-01-2019  15:29             6,161 Untitled2.ipynb\n",
      "21-06-2019  15:17               686 Untitled3.ipynb\n",
      "21-06-2019  16:39             2,234 Untitled4.ipynb\n",
      "21-06-2019  16:43                72 Untitled5.ipynb\n",
      "22-06-2019  10:45             3,309 Untitled6.ipynb\n",
      "22-06-2019  09:41                72 Untitled7.ipynb\n",
      "25-06-2019  14:54            12,915 Untitled8.ipynb\n",
      "25-06-2019  09:19                72 Untitled9.ipynb\n",
      "16-06-2019  14:12    <DIR>          Videos\n",
      "              19 File(s)     98,971,605 bytes\n",
      "              34 Dir(s)  877,979,512,832 bytes free\n"
     ]
    }
   ],
   "source": [
    "ls"
   ]
  },
  {
   "cell_type": "code",
   "execution_count": 41,
   "metadata": {},
   "outputs": [
    {
     "name": "stdout",
     "output_type": "stream",
     "text": [
      " Volume in drive C is OS\n",
      " Volume Serial Number is E0E7-F83F\n",
      "\n",
      " Directory of C:\\Users\\Surya\n",
      "\n",
      "11-07-2019  15:03    <DIR>          .\n",
      "11-07-2019  15:03    <DIR>          ..\n",
      "02-03-2019  13:46    <DIR>          .anaconda\n",
      "08-07-2019  22:51    <DIR>          .atom\n",
      "05-07-2019  09:12             3,663 .bash_history\n",
      "05-07-2019  19:06    <DIR>          .conda\n",
      "05-07-2019  18:25                43 .condarc\n",
      "10-01-2019  11:54    <DIR>          .idlerc\n",
      "08-07-2019  19:22    <DIR>          .ipynb_checkpoints\n",
      "10-01-2019  14:32    <DIR>          .ipython\n",
      "08-07-2019  22:03    <DIR>          .jupyter\n",
      "10-01-2019  15:24    <DIR>          .matplotlib\n",
      "23-05-2019  21:10    <DIR>          .pylint.d\n",
      "28-05-2019  21:18    <DIR>          .spyder-py3\n",
      "09-01-2019  18:19    <DIR>          .vscode\n",
      "05-07-2019  11:03               555 5-7-19.ipynb\n",
      "02-05-2019  12:44    <DIR>          Anaconda3\n",
      "02-10-2018  11:21            14,050 ASSIGNMENT 'C' PIN NUM 02.docx\n",
      "13-05-2018  15:23    <DIR>          BITSAT PREVIOUS PAPERS\n",
      "11-08-2018  18:08    <DIR>          Blood Pressure\n",
      "19-03-2018  08:30        98,917,376 CENGAGE APP.msi\n",
      "16-06-2019  14:12    <DIR>          Contacts\n",
      "10-07-2019  18:52    <DIR>          Desktop\n",
      "21-06-2019  11:44    <DIR>          Documents\n",
      "11-07-2019  10:24    <DIR>          Downloads\n",
      "29-06-2018  19:24    <DIR>          gitam\n",
      "12-06-2018  09:50    <DIR>          LAKSHMI\n",
      "16-06-2019  14:12    <DIR>          Links\n",
      "29-06-2018  19:04                 0 mkdir\n",
      "16-06-2019  14:12    <DIR>          Music\n",
      "21-06-2019  17:04    <DIR>          Pictures\n",
      "14-05-2018  16:23    <DIR>          Practice Exercise\n",
      "04-07-2019  10:11    <DIR>          psp\n",
      "06-05-2019  11:02                 0 python\n",
      "11-07-2019  15:02    <DIR>          Python1\n",
      "17-03-2013  22:41    <DIR>          Roaming\n",
      "16-06-2019  14:12    <DIR>          Searches\n",
      "11-07-2019  14:45    <DIR>          SingleDirectory\n",
      "11-07-2019  14:48    <DIR>          Test Folder\n",
      "08-07-2019  19:16                72 Untitled.ipynb\n",
      "08-07-2019  19:22                72 Untitled1.ipynb\n",
      "26-06-2019  09:18                72 Untitled11.ipynb\n",
      "26-06-2019  15:09            10,181 Untitled12.ipynb\n",
      "10-01-2019  15:29             6,161 Untitled2.ipynb\n",
      "21-06-2019  15:17               686 Untitled3.ipynb\n",
      "21-06-2019  16:39             2,234 Untitled4.ipynb\n",
      "21-06-2019  16:43                72 Untitled5.ipynb\n",
      "22-06-2019  10:45             3,309 Untitled6.ipynb\n",
      "22-06-2019  09:41                72 Untitled7.ipynb\n",
      "25-06-2019  14:54            12,915 Untitled8.ipynb\n",
      "25-06-2019  09:19                72 Untitled9.ipynb\n",
      "16-06-2019  14:12    <DIR>          Videos\n",
      "              19 File(s)     98,971,605 bytes\n",
      "              33 Dir(s)  877,979,406,336 bytes free\n"
     ]
    }
   ],
   "source": [
    "ls"
   ]
  },
  {
   "cell_type": "code",
   "execution_count": 43,
   "metadata": {},
   "outputs": [
    {
     "name": "stdout",
     "output_type": "stream",
     "text": [
      "10th July 2019.ipynb\n",
      "11th July 2019.ipynb\n",
      "5-7-19.ipynb\n",
      "5th July 2019 Python Intro.ipynb\n",
      "5th July Examples.ipynb\n",
      "6th July 2019.ipynb\n",
      "8th July 2019.ipynb\n",
      "9th July 2019.ipynb\n",
      "Assignment of 10th July 2019.ipynb\n",
      "Untitled.ipynb\n",
      "Untitled1.ipynb\n",
      "Untitled10.ipynb\n"
     ]
    }
   ],
   "source": [
    "import os\n",
    "dirPath = 'Python1/'\n",
    "for f_name in os.listdir(dirPath):\n",
    "    if f_name.endswith('.ipynb'):\n",
    "        print(f_name)"
   ]
  },
  {
   "cell_type": "markdown",
   "metadata": {},
   "source": [
    "### Deleting a Directory : "
   ]
  },
  {
   "cell_type": "code",
   "execution_count": 47,
   "metadata": {},
   "outputs": [],
   "source": [
    "import os\n",
    "data_file = 'C:\\\\Users\\\\Surya\\\\Untitled2.ipynb' # Give the entire file path c:\\\\Users\\\\Surya\\\\filename\n",
    "os.remove(data_file)"
   ]
  },
  {
   "cell_type": "code",
   "execution_count": 48,
   "metadata": {},
   "outputs": [],
   "source": [
    "data_dir = 'SingleDirectory'\n",
    "os.rmdir(data_dir)"
   ]
  },
  {
   "cell_type": "code",
   "execution_count": 51,
   "metadata": {},
   "outputs": [],
   "source": [
    "data_dir = 'Test Folder'\n",
    "os.rmdir(data_dir)"
   ]
  },
  {
   "cell_type": "code",
   "execution_count": 52,
   "metadata": {},
   "outputs": [
    {
     "name": "stdout",
     "output_type": "stream",
     "text": [
      " Volume in drive C is OS\n",
      " Volume Serial Number is E0E7-F83F\n",
      "\n",
      " Directory of C:\\Users\\Surya\n",
      "\n",
      "11-07-2019  15:24    <DIR>          .\n",
      "11-07-2019  15:24    <DIR>          ..\n",
      "02-03-2019  13:46    <DIR>          .anaconda\n",
      "08-07-2019  22:51    <DIR>          .atom\n",
      "05-07-2019  09:12             3,663 .bash_history\n",
      "05-07-2019  19:06    <DIR>          .conda\n",
      "05-07-2019  18:25                43 .condarc\n",
      "10-01-2019  11:54    <DIR>          .idlerc\n",
      "08-07-2019  19:22    <DIR>          .ipynb_checkpoints\n",
      "10-01-2019  14:32    <DIR>          .ipython\n",
      "08-07-2019  22:03    <DIR>          .jupyter\n",
      "10-01-2019  15:24    <DIR>          .matplotlib\n",
      "23-05-2019  21:10    <DIR>          .pylint.d\n",
      "28-05-2019  21:18    <DIR>          .spyder-py3\n",
      "09-01-2019  18:19    <DIR>          .vscode\n",
      "05-07-2019  11:03               555 5-7-19.ipynb\n",
      "02-05-2019  12:44    <DIR>          Anaconda3\n",
      "02-10-2018  11:21            14,050 ASSIGNMENT 'C' PIN NUM 02.docx\n",
      "13-05-2018  15:23    <DIR>          BITSAT PREVIOUS PAPERS\n",
      "11-08-2018  18:08    <DIR>          Blood Pressure\n",
      "19-03-2018  08:30        98,917,376 CENGAGE APP.msi\n",
      "16-06-2019  14:12    <DIR>          Contacts\n",
      "10-07-2019  18:52    <DIR>          Desktop\n",
      "21-06-2019  11:44    <DIR>          Documents\n",
      "11-07-2019  10:24    <DIR>          Downloads\n",
      "29-06-2018  19:24    <DIR>          gitam\n",
      "12-06-2018  09:50    <DIR>          LAKSHMI\n",
      "16-06-2019  14:12    <DIR>          Links\n",
      "29-06-2018  19:04                 0 mkdir\n",
      "16-06-2019  14:12    <DIR>          Music\n",
      "21-06-2019  17:04    <DIR>          Pictures\n",
      "14-05-2018  16:23    <DIR>          Practice Exercise\n",
      "04-07-2019  10:11    <DIR>          psp\n",
      "06-05-2019  11:02                 0 python\n",
      "11-07-2019  15:24    <DIR>          Python1\n",
      "17-03-2013  22:41    <DIR>          Roaming\n",
      "16-06-2019  14:12    <DIR>          Searches\n",
      "08-07-2019  19:16                72 Untitled.ipynb\n",
      "08-07-2019  19:22                72 Untitled1.ipynb\n",
      "26-06-2019  09:18                72 Untitled11.ipynb\n",
      "26-06-2019  15:09            10,181 Untitled12.ipynb\n",
      "21-06-2019  15:17               686 Untitled3.ipynb\n",
      "21-06-2019  16:39             2,234 Untitled4.ipynb\n",
      "21-06-2019  16:43                72 Untitled5.ipynb\n",
      "22-06-2019  10:45             3,309 Untitled6.ipynb\n",
      "22-06-2019  09:41                72 Untitled7.ipynb\n",
      "25-06-2019  14:54            12,915 Untitled8.ipynb\n",
      "25-06-2019  09:19                72 Untitled9.ipynb\n",
      "16-06-2019  14:12    <DIR>          Videos\n",
      "              18 File(s)     98,965,444 bytes\n",
      "              31 Dir(s)  877,978,361,856 bytes free\n"
     ]
    }
   ],
   "source": [
    "data_dir = 'LAKSHMI'"
   ]
  },
  {
   "cell_type": "code",
   "execution_count": 56,
   "metadata": {},
   "outputs": [],
   "source": [
    "import shutil\n",
    "data_dir = 'gitam'\n",
    "shutil.rmtree(data_dir)"
   ]
  },
  {
   "cell_type": "markdown",
   "metadata": {},
   "source": [
    "ls"
   ]
  },
  {
   "cell_type": "markdown",
   "metadata": {},
   "source": [
    "### Regular Expressions\n",
    "- Used to specific Pattern matching\n",
    "- Symbolic notations of Pattern\n",
    "        - Patterns(RE) represents set of the values."
   ]
  },
  {
   "cell_type": "code",
   "execution_count": null,
   "metadata": {},
   "outputs": [],
   "source": []
  }
 ],
 "metadata": {
  "kernelspec": {
   "display_name": "Python 3",
   "language": "python",
   "name": "python3"
  },
  "language_info": {
   "codemirror_mode": {
    "name": "ipython",
    "version": 3
   },
   "file_extension": ".py",
   "mimetype": "text/x-python",
   "name": "python",
   "nbconvert_exporter": "python",
   "pygments_lexer": "ipython3",
   "version": "3.7.1"
  }
 },
 "nbformat": 4,
 "nbformat_minor": 2
}
