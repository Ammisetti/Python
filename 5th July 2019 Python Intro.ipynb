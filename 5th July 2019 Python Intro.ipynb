{
 "cells": [
  {
   "cell_type": "code",
   "execution_count": 3,
   "metadata": {},
   "outputs": [
    {
     "name": "stdout",
     "output_type": "stream",
     "text": [
      "<class 'int'>\n",
      "<class 'str'>\n",
      "<class 'float'>\n"
     ]
    }
   ],
   "source": [
    "i = 100\n",
    "print(type(i))\n",
    "s1 = str(i)\n",
    "print(type(s1))\n",
    "f1 = float(i)\n",
    "print(type(f1))"
   ]
  },
  {
   "cell_type": "code",
   "execution_count": 8,
   "metadata": {},
   "outputs": [
    {
     "name": "stdout",
     "output_type": "stream",
     "text": [
      "<class 'str'>\n",
      "<class 'int'>\n",
      "<class 'int'>\n",
      "1\n",
      "1.5\n"
     ]
    }
   ],
   "source": [
    "s1 = \"100\"\n",
    "print(type(s1))\n",
    "a = int(s1)\n",
    "print(type(a))\n",
    "\n",
    "f = 1.5\n",
    "a1 = int(f)\n",
    "print(type(a1))\n",
    "print(a1)\n",
    "print(f)"
   ]
  },
  {
   "cell_type": "code",
   "execution_count": 9,
   "metadata": {},
   "outputs": [
    {
     "name": "stdout",
     "output_type": "stream",
     "text": [
      "4\n"
     ]
    }
   ],
   "source": [
    "# A number is given 1234\n",
    "# digit count\n",
    "a1= 1234\n",
    "print(len(str(a1)))"
   ]
  },
  {
   "cell_type": "code",
   "execution_count": 12,
   "metadata": {},
   "outputs": [
    {
     "name": "stdout",
     "output_type": "stream",
     "text": [
      "22\n"
     ]
    }
   ],
   "source": [
    "s = \"SuryaNarayanaAmmisetti\"\n",
    "print(len(str(s)))"
   ]
  },
  {
   "cell_type": "code",
   "execution_count": 17,
   "metadata": {},
   "outputs": [
    {
     "name": "stdout",
     "output_type": "stream",
     "text": [
      "Enter your Name : Surya Ammisetti\n",
      "Surya Ammisetti\n",
      "<class 'str'>\n"
     ]
    }
   ],
   "source": [
    "### Reading a vlaue ###\n",
    "# input (\"Message\") -- string\n",
    "s1 = input(\"Enter your Name : \")\n",
    "print(s1)\n",
    "print(type(s1))"
   ]
  },
  {
   "cell_type": "code",
   "execution_count": 21,
   "metadata": {},
   "outputs": [
    {
     "name": "stdout",
     "output_type": "stream",
     "text": [
      "Enter a number : 4\n",
      "4 <class 'int'>\n"
     ]
    }
   ],
   "source": [
    "# Want a number as input\n",
    "n1 = int(input(\"Enter a number : \"))\n",
    "print(n1,type(n1))"
   ]
  },
  {
   "cell_type": "markdown",
   "metadata": {},
   "source": [
    "## Operations\n",
    "* Operator is a symbols is used to perform a specific kind of operations\n",
    "### Arithmetic Operators\n",
    "- + \n",
    "- -\n",
    "- *\n",
    "- %\n",
    "- **\n",
    "- //"
   ]
  },
  {
   "cell_type": "code",
   "execution_count": 22,
   "metadata": {},
   "outputs": [
    {
     "name": "stdout",
     "output_type": "stream",
     "text": [
      "1244\n",
      "1224\n",
      "12340\n",
      "123.4\n",
      "4\n",
      "123\n",
      "8187505353567209228244052427776\n"
     ]
    }
   ],
   "source": [
    "n1 = 1234\n",
    "print(n1+10)\n",
    "print(n1-10)\n",
    "print(n1*10)\n",
    "print(n1/10)\n",
    "print(n1%10)\n",
    "print(n1//10)\n",
    "print(n1**10)"
   ]
  },
  {
   "cell_type": "markdown",
   "metadata": {},
   "source": [
    "### Precedence of the Arth Operators\n",
    "- Parenthesis\n",
    "- Power\n",
    "- Multiplication\n",
    "- Addition\n",
    "## Left to right"
   ]
  },
  {
   "cell_type": "code",
   "execution_count": 24,
   "metadata": {},
   "outputs": [
    {
     "name": "stdout",
     "output_type": "stream",
     "text": [
      "8.0\n"
     ]
    }
   ],
   "source": [
    "x = 1 + 2 ** 3 / 4 + 5\n",
    "print(x)"
   ]
  },
  {
   "cell_type": "code",
   "execution_count": 25,
   "metadata": {},
   "outputs": [
    {
     "name": "stdout",
     "output_type": "stream",
     "text": [
      "11.0\n"
     ]
    }
   ],
   "source": [
    "x = 1 + 2 ** 3 / 4 * 5\n",
    "print(x)"
   ]
  },
  {
   "cell_type": "markdown",
   "metadata": {},
   "source": [
    "### Relational Operators\n",
    "- ==\n",
    "- !=\n",
    "- Greater(>)\n",
    "- Less than(<)\n",
    "- Less than or equals to(<=)\n",
    "- Greater (>=)"
   ]
  },
  {
   "cell_type": "code",
   "execution_count": 27,
   "metadata": {},
   "outputs": [
    {
     "name": "stdout",
     "output_type": "stream",
     "text": [
      "0\n"
     ]
    }
   ],
   "source": [
    "x = 10\n",
    "a1 = x > 15\n",
    "print(int(a1))"
   ]
  },
  {
   "cell_type": "code",
   "execution_count": 29,
   "metadata": {},
   "outputs": [
    {
     "name": "stdout",
     "output_type": "stream",
     "text": [
      "True\n",
      "False\n"
     ]
    }
   ],
   "source": [
    "i = 100\n",
    "a1 = (i > 15) and (i < 500)\n",
    "a2 = (i > 15) and (i > 500)\n",
    "print(a1)\n",
    "print(a2)"
   ]
  },
  {
   "cell_type": "markdown",
   "metadata": {},
   "source": [
    "### Control Flow Statements :\n",
    "- Conditional statements\n",
    "- Looping statements\n",
    "\n",
    "### if - else Statements : \n",
    "\n",
    "***Syntax***\n",
    "\n",
    "if Boolean_Condition :<br> \n",
    "Statements <br>\n",
    "else : <br>\n",
    "statements"
   ]
  },
  {
   "cell_type": "code",
   "execution_count": 32,
   "metadata": {},
   "outputs": [
    {
     "name": "stdout",
     "output_type": "stream",
     "text": [
      "Enter a number : 4\n",
      "Even\n"
     ]
    }
   ],
   "source": [
    "# To check given number is even or odd\n",
    "n = int(input(\"Enter a number : \"))\n",
    "if n%2 == 0:\n",
    "    print(\"Even\")\n",
    "else :\n",
    "    print(\"Odd\")"
   ]
  },
  {
   "cell_type": "code",
   "execution_count": 35,
   "metadata": {},
   "outputs": [
    {
     "name": "stdout",
     "output_type": "stream",
     "text": [
      "Enter a number : 10\n",
      "Not a multiple of 3 and 5\n"
     ]
    }
   ],
   "source": [
    "# To check given number is perfectly multiple of 3 and 5\n",
    "n = int(input(\"Enter a number : \"))\n",
    "if n%3 == 0 and n%5 == 0 :\n",
    "    print(\"Multiple of 5 and 3\")\n",
    "else :\n",
    "    print(\"Not a multiple of 3 and 5\")"
   ]
  },
  {
   "cell_type": "code",
   "execution_count": 39,
   "metadata": {},
   "outputs": [
    {
     "name": "stdout",
     "output_type": "stream",
     "text": [
      "Enter a number : -4\n",
      "Negative Number\n"
     ]
    }
   ],
   "source": [
    "# test given number is positive,negative or zero\n",
    "n = int(input(\"Enter a number : \"))\n",
    "if n == 0 :\n",
    "    print(\"Zero\")\n",
    "elif n > 0 :\n",
    "    print(\"Postive Number\")\n",
    "elif n < 0 :\n",
    "    print(\"Negative Number\")"
   ]
  },
  {
   "cell_type": "code",
   "execution_count": null,
   "metadata": {},
   "outputs": [],
   "source": []
  }
 ],
 "metadata": {
  "kernelspec": {
   "display_name": "Python 3",
   "language": "python",
   "name": "python3"
  },
  "language_info": {
   "codemirror_mode": {
    "name": "ipython",
    "version": 3
   },
   "file_extension": ".py",
   "mimetype": "text/x-python",
   "name": "python",
   "nbconvert_exporter": "python",
   "pygments_lexer": "ipython3",
   "version": "3.7.1"
  }
 },
 "nbformat": 4,
 "nbformat_minor": 2
}
