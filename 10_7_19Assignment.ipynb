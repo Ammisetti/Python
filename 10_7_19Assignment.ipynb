{
  "nbformat": 4,
  "nbformat_minor": 0,
  "metadata": {
    "colab": {
      "name": "10/7/19Assignment.ipynb",
      "version": "0.3.2",
      "provenance": [],
      "collapsed_sections": []
    },
    "kernelspec": {
      "name": "python3",
      "display_name": "Python 3"
    }
  },
  "cells": [
    {
      "cell_type": "code",
      "metadata": {
        "id": "FgqFYkHxxYv7",
        "colab_type": "code",
        "outputId": "ab2f9ae8-5f49-4502-952e-0dda9ad813a8",
        "colab": {
          "base_uri": "https://localhost:8080/",
          "height": 52
        }
      },
      "source": [
        "#fibi\n",
        "n = int(input(\"Enter a number:\"))\n",
        "f0=0\n",
        "f1=1\n",
        "k=1\n",
        "l=[]\n",
        "l.append(f0)\n",
        "l.append(f1)\n",
        "while k!=n-1:\n",
        "  f2=f1+f0\n",
        "  l.append(f2)\n",
        "  f0=f1\n",
        "  f1=f2\n",
        "  k=k+1\n",
        "l.reverse()\n",
        "print(l)"
      ],
      "execution_count": 0,
      "outputs": [
        {
          "output_type": "stream",
          "text": [
            "Enter a number:12\n",
            "[89, 55, 34, 21, 13, 8, 5, 3, 2, 1, 1, 0]\n"
          ],
          "name": "stdout"
        }
      ]
    },
    {
      "cell_type": "code",
      "metadata": {
        "id": "lSpSmN0uxoJe",
        "colab_type": "code",
        "outputId": "262d518d-ff9e-42c5-b4e9-4ee5b2974626",
        "colab": {
          "base_uri": "https://localhost:8080/",
          "height": 34
        }
      },
      "source": [
        "#10\n",
        "#3x3^0\n",
        "for i in range(0,10):\n",
        "  s3=(3**i)\n",
        "  print(s3,end=\" \")\n",
        "  "
      ],
      "execution_count": 0,
      "outputs": [
        {
          "output_type": "stream",
          "text": [
            "1 3 9 27 81 243 729 2187 6561 19683 "
          ],
          "name": "stdout"
        }
      ]
    },
    {
      "cell_type": "code",
      "metadata": {
        "id": "RVDKshgyyMP3",
        "colab_type": "code",
        "outputId": "e802c083-65b1-43aa-e85a-ebe918c99d11",
        "colab": {
          "base_uri": "https://localhost:8080/",
          "height": 34
        }
      },
      "source": [
        "#11\n",
        "for i in range(0,10):\n",
        "  s3=(2**i)\n",
        "  print(s3,end=\" \")"
      ],
      "execution_count": 0,
      "outputs": [
        {
          "output_type": "stream",
          "text": [
            "1 2 4 8 16 32 64 128 256 512 "
          ],
          "name": "stdout"
        }
      ]
    },
    {
      "cell_type": "code",
      "metadata": {
        "id": "QGsE6rPUyMtM",
        "colab_type": "code",
        "outputId": "8945c7a7-9bb2-4720-814a-2055c3fbae58",
        "colab": {
          "base_uri": "https://localhost:8080/",
          "height": 70
        }
      },
      "source": [
        "#14\n",
        "def fact(n):\n",
        "  f=1\n",
        "  i=1\n",
        "  while(n+1!=i):\n",
        "    f=f*i\n",
        "    i=i+1\n",
        "  return f\n",
        "fact(5)\n",
        "sum=0\n",
        "for i in range(1,12):\n",
        "  print(fact(i),\"+\",end=\" \")\n",
        "print(\"\\n\")\n",
        "for i in range(1,12):\n",
        "  print(i,\"! +\",end=\" \")"
      ],
      "execution_count": 0,
      "outputs": [
        {
          "output_type": "stream",
          "text": [
            "1 + 2 + 6 + 24 + 120 + 720 + 5040 + 40320 + 362880 + 3628800 + 39916800 + \n",
            "\n",
            "1 ! + 2 ! + 3 ! + 4 ! + 5 ! + 6 ! + 7 ! + 8 ! + 9 ! + 10 ! + 11 ! + "
          ],
          "name": "stdout"
        }
      ]
    },
    {
      "cell_type": "code",
      "metadata": {
        "id": "t0APNv8hyPLG",
        "colab_type": "code",
        "outputId": "76def2aa-2020-4599-a86d-899c2219c573",
        "colab": {
          "base_uri": "https://localhost:8080/",
          "height": 70
        }
      },
      "source": [
        "#8\n",
        "s=input(\"Enter string:\")\n",
        "n=input(\"Enter removing charcter:\")\n",
        "for i in range(len(s)):\n",
        "  if s[i]==n:\n",
        "    s.replace(n,'')\n",
        "  else:\n",
        "    print(s[i],end='')"
      ],
      "execution_count": 0,
      "outputs": [
        {
          "output_type": "stream",
          "text": [
            "Enter string:HebeonTech\n",
            "Enter removing charcter:e\n",
            "HbonTch"
          ],
          "name": "stdout"
        }
      ]
    },
    {
      "cell_type": "code",
      "metadata": {
        "id": "C9tP1pKoySgk",
        "colab_type": "code",
        "outputId": "483d147f-7108-4f75-e348-010a121d0108",
        "colab": {
          "base_uri": "https://localhost:8080/",
          "height": 70
        }
      },
      "source": [
        "#9\n",
        "s1=(input(\"Enter string s1:\"))\n",
        "s2=(input(\"Enter string s2:\"))\n",
        "print(s1+s2)\n"
      ],
      "execution_count": 0,
      "outputs": [
        {
          "output_type": "stream",
          "text": [
            "Enter string s1:hello \n",
            "Enter string s2:bro\n",
            "hello bro\n"
          ],
          "name": "stdout"
        }
      ]
    },
    {
      "cell_type": "code",
      "metadata": {
        "id": "gNyHE4GuycEn",
        "colab_type": "code",
        "outputId": "1caac357-d91e-434f-ae4a-9830a3755500",
        "colab": {
          "base_uri": "https://localhost:8080/",
          "height": 34
        }
      },
      "source": [
        "#5.1\n",
        "def wordUpperCase(s):\n",
        "  spaceCnt = 0\n",
        "  for x in range(len(s)):\n",
        "    if ord(s[x])==32:\n",
        "      spaceCnt += 1 #spaceCnt = spaceCnt + 1\n",
        "    if spaceCnt == 1:\n",
        "      if ord(s[x])>=65 and ord(s[x])<=90:\n",
        "        print(s[x],end=\"\")\n",
        "      elif ord(s[x])>=97 and ord(s[x]) <=122:\n",
        "        print(chr(ord(s[x])-32),end=\"\")\n",
        "    if spaceCnt ==2:\n",
        "      return\n",
        "wordUpperCase(\"application Testing\")\n",
        "wordUpperCase(\"anil Test app\")"
      ],
      "execution_count": 0,
      "outputs": [
        {
          "output_type": "stream",
          "text": [
            "TESTINGTEST"
          ],
          "name": "stdout"
        }
      ]
    },
    {
      "cell_type": "code",
      "metadata": {
        "id": "TyxehOJ-ygYk",
        "colab_type": "code",
        "outputId": "34cdeea8-7d3c-4439-ec22-470afecec267",
        "colab": {
          "base_uri": "https://localhost:8080/",
          "height": 210
        }
      },
      "source": [
        "#7\n",
        "n=int(input(\"Enter a number:\"))\n",
        "k=0\n",
        "rev=0\n",
        "while(n>0):\n",
        "    dig=n%10\n",
        "    rev=rev*10+dig\n",
        "    n=n//10 \n",
        "n=rev\n",
        "\n",
        "temp = n\n",
        "while n!=0:\n",
        "  \n",
        "  n=n//10\n",
        "  k=k+1\n",
        "  \n",
        "for j in range(k):\n",
        "  r=temp%10\n",
        "  for i in range(1,r+1):\n",
        "    print(\"*\",end=\" \")\n",
        "  print(\"\\n\")\n",
        "  temp=temp//10\n",
        "  "
      ],
      "execution_count": 0,
      "outputs": [
        {
          "output_type": "stream",
          "text": [
            "Enter a number:14957\n",
            "* \n",
            "\n",
            "* * * * \n",
            "\n",
            "* * * * * * * * * \n",
            "\n",
            "* * * * * \n",
            "\n",
            "* * * * * * * \n",
            "\n"
          ],
          "name": "stdout"
        }
      ]
    },
    {
      "cell_type": "code",
      "metadata": {
        "id": "HobR1v4Rykol",
        "colab_type": "code",
        "outputId": "08616819-9958-415a-9213-69afc4fa9114",
        "colab": {
          "base_uri": "https://localhost:8080/",
          "height": 34
        }
      },
      "source": [
        "#4 print the largest string in a given string\n",
        "n=input(\"Enter string:\")\n",
        "c1=0\n",
        "c2=0\n",
        "\n",
        "for i in range(len(n)):\n",
        "  if n[i]==32:\n",
        "    spacepos=i\n",
        "for i in range(1,len(n)):\n",
        "  for j in range(spacepos):\n",
        "    c1=c1+1\n",
        "  for k in range(spacepos,len(n)):\n",
        "    c2=c2+1\n",
        "if c2>c1:\n",
        "  for i in range(1,spacepos):\n",
        "    print(n[i],end=\"\")\n",
        "elif c1<c2:\n",
        "  for i in range(spacepos,len(n)):\n",
        "    print(n[i],end=\"\")\n",
        "elif c1==c2:\n",
        "  for i in range(spacepos):\n",
        "    print(n[i],end=\"\")"
      ],
      "execution_count": 0,
      "outputs": [
        {
          "output_type": "stream",
          "text": [
            "Enter string:good morning\n"
          ],
          "name": "stdout"
        }
      ]
    },
    {
      "cell_type": "code",
      "metadata": {
        "id": "_gtvozQb_ah0",
        "colab_type": "code",
        "colab": {}
      },
      "source": [
        ""
      ],
      "execution_count": 0,
      "outputs": []
    }
  ]
}