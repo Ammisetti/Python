{
 "cells": [
  {
   "cell_type": "markdown",
   "metadata": {},
   "source": [
    "### Day Objectives :\n",
    "- Python Data Structures\n",
    "    * Lists\n",
    "    * Tuples\n",
    "    * Dictionaries\n",
    "- Basic Program sets on Data Structures\n",
    "- Advanced Problem set\n",
    "- Contact Application (Dictionary Object) \n",
    "### Data Structures :\n",
    "- To store, Search and Sort the data"
   ]
  },
  {
   "cell_type": "markdown",
   "metadata": {},
   "source": [
    "### Python Data Structures \n",
    "#### Lists\n",
    "- It's one of common data structures supports by Python,the list items are seperated by comma operator and enclosed in square brackets\n",
    "- Example : \n",
    "    - list 1 : [1,6,2,18,9]\n",
    "    - list 2 : [\"Gitam\",10,12,15.5,\"Hyderbad\"]"
   ]
  },
  {
   "cell_type": "code",
   "execution_count": 19,
   "metadata": {},
   "outputs": [
    {
     "name": "stdout",
     "output_type": "stream",
     "text": [
      "[1, 8, 16, 9, 2]\n",
      "1\n",
      "8\n",
      "2\n",
      "9\n",
      "[8, 16, 9, 2]\n",
      "[8, 16, 9]\n"
     ]
    }
   ],
   "source": [
    "lst = [1,8,16,9,2]     # Creating the list object in Python \n",
    "print(lst) # Access the entire list\n",
    "print(lst[0]) # Access the first item list\n",
    "print(lst[1]) # Access the second item list\n",
    "print(lst[-1]) # Access the last item of the list\n",
    "print(lst[-2]) # Access the last second item of the list\n",
    "print(lst[1:]) # Print all the remaining of the list except the first one\n",
    "print(lst[1:4]) "
   ]
  },
  {
   "cell_type": "code",
   "execution_count": 20,
   "metadata": {},
   "outputs": [
    {
     "name": "stdout",
     "output_type": "stream",
     "text": [
      "['Gitam', 'Python', 1989, 2002]\n",
      "['Gitam', 'Python', 1999, 2002]\n"
     ]
    }
   ],
   "source": [
    "# Update the list item values usinng index (Direct Reference)\n",
    "li = [\"Gitam\",\"Python\",1989,2002]\n",
    "print(li)\n",
    "li[2] = 1999\n",
    "print(li)"
   ]
  },
  {
   "cell_type": "code",
   "execution_count": 21,
   "metadata": {},
   "outputs": [
    {
     "name": "stdout",
     "output_type": "stream",
     "text": [
      "['Gitam', 'Python', 1999, 2002]\n",
      "['Gitam', 'Python', 2002]\n"
     ]
    }
   ],
   "source": [
    "# Delete the specific item in the list\n",
    "print(li)\n",
    "del li[2]\n",
    "print(li)"
   ]
  },
  {
   "cell_type": "code",
   "execution_count": 22,
   "metadata": {},
   "outputs": [
    {
     "name": "stdout",
     "output_type": "stream",
     "text": [
      "5\n",
      "[1, 9, 6, 18, 2, 1, 9, 6, 18, 2]\n",
      "5\n",
      "True\n",
      "False\n",
      "10\n",
      "1 9 6 18 2 "
     ]
    }
   ],
   "source": [
    "# Basic list Operations\n",
    "lst1 = [1,9,6,18,2]\n",
    "print(len(lst1)) # lenth of the list\n",
    "print(lst1 * 2) # Repetation\n",
    "print(len(lst1)) # Length of the list\n",
    "print(9 in lst1) # List item present or not\n",
    "print(15 in lst1)\n",
    "print(len(lst1 * 2))\n",
    "# Access the list items using iteration\n",
    "for x in range (len(lst1)):\n",
    "    print(lst1[x], end = \" \")"
   ]
  },
  {
   "cell_type": "code",
   "execution_count": 29,
   "metadata": {},
   "outputs": [
    {
     "name": "stdout",
     "output_type": "stream",
     "text": [
      "1\n",
      "18\n",
      "36\n",
      "7\n",
      "[9, 18]\n",
      "2\n",
      "13.5\n"
     ]
    }
   ],
   "source": [
    "# Function of the list \n",
    "lst1\n",
    "print(min(lst1)) # Min item/element of the list\n",
    "print(max(lst1)) # Max element of the list\n",
    "print(sum(lst1)) # Sum of the elements of the list\n",
    "print(sum(lst1)//len(lst1)) # Average of the elements\n",
    "print(lst1[1::2])\n",
    "print(len(lst1[1::2]))\n",
    "print(sum(lst1[1::2])/len(lst1[1::2])) # Average of all alternate elements"
   ]
  },
  {
   "cell_type": "code",
   "execution_count": 36,
   "metadata": {},
   "outputs": [
    {
     "data": {
      "text/plain": [
       "[1, 9, 18, 23, 24, 24, 24, 24, 24, 24, 24, 45, 56, 56, 56, 56, 56, 123, 23, 45]"
      ]
     },
     "execution_count": 36,
     "metadata": {},
     "output_type": "execute_result"
    }
   ],
   "source": [
    "# Methods of List Object\n",
    "lst1\n",
    "lst1.append(24) # Adding a new element at the end of the list\n",
    "lst1\n",
    "lst1.insert(2,56) # Adding a element at particular index\n",
    "lst1\n",
    "lst1.count(18) # Return the value how many time the object repeated\n",
    "lst1.index(56)\n",
    "lst1.sort() # It's sort the list in ascending order\n",
    "lst1\n",
    "lst1.pop() # Remove the last element from the list\n",
    "lst1\n",
    "lst1.pop(1) # Remove an element from a particular index\n",
    "lst2 = [123,23,45]\n",
    "lst1.extend(lst2) # Merge the list2 into list1\n",
    "lst1"
   ]
  },
  {
   "cell_type": "code",
   "execution_count": 54,
   "metadata": {},
   "outputs": [
    {
     "name": "stdout",
     "output_type": "stream",
     "text": [
      "[3, 2, 9]\n",
      "[3, 2]\n",
      "[3, 2, 9]\n",
      "[3, 6, 2, 8, 9, 1]\n",
      "[1, 9, 8, 2, 6, 3]\n"
     ]
    }
   ],
   "source": [
    "li = [1,9,8,2,6,3]\n",
    "print(li[-1::-2])\n",
    "print(li[-1:2:-2])\n",
    "print(li[-1:0:-2])\n",
    "print(li[-1::-1]) # Reverse a list\n",
    "print(li)"
   ]
  },
  {
   "cell_type": "code",
   "execution_count": 61,
   "metadata": {},
   "outputs": [
    {
     "name": "stdout",
     "output_type": "stream",
     "text": [
      "8\n",
      "3\n"
     ]
    }
   ],
   "source": [
    "# Function ot find the second large item form the list\n",
    "# Input : [1,19,6,2,8,18,3]\n",
    "# Output : 18\n",
    "def secondLarge(lis) : \n",
    "    lis.sort()\n",
    "    return li[-2]\n",
    "\n",
    "def genericLarge(li,n):\n",
    "    li.sort()\n",
    "    return li[-n]\n",
    "li = [1,9,8,2,6,3]\n",
    "print(secondLarge(li))\n",
    "print(genericLarge(li,4))"
   ]
  },
  {
   "cell_type": "code",
   "execution_count": 65,
   "metadata": {},
   "outputs": [
    {
     "name": "stdout",
     "output_type": "stream",
     "text": [
      "2\n",
      "6\n"
     ]
    }
   ],
   "source": [
    "# Function to find the least item form the list\n",
    "# Input : [1,19,6,2,8,18,3]\n",
    "# Output : 2\n",
    "def secondLeast(li):\n",
    "    li.sort()\n",
    "    return li[1]\n",
    "def genericLeast(li,n):\n",
    "    li.sort()\n",
    "    return li[n-1]\n",
    "li = [1,19,6,2,8,18,3]\n",
    "print(secondLeast(li))\n",
    "print(genericLeast(li,4))"
   ]
  },
  {
   "cell_type": "markdown",
   "metadata": {},
   "source": [
    "### Searching Algorithms : \n",
    "- Linear Search\n",
    "- Binary Search"
   ]
  },
  {
   "cell_type": "markdown",
   "metadata": {},
   "source": [
    "### Linear Search \n",
    "- Linear Search Algorithm can be applied on Duplicate and Unique List\n",
    "    - Unique List : The all item of the list is appeared onle ine\n",
    "    - Duplicate List : The items of the list can ebe appeared more than once\n",
    "- Linear Serach Algorithm canbe applied on Sorted List or Unsorted List"
   ]
  },
  {
   "cell_type": "code",
   "execution_count": 73,
   "metadata": {},
   "outputs": [
    {
     "name": "stdout",
     "output_type": "stream",
     "text": [
      "Enter key Value: 3\n"
     ]
    },
    {
     "data": {
      "text/plain": [
       "6"
      ]
     },
     "execution_count": 73,
     "metadata": {},
     "output_type": "execute_result"
    }
   ],
   "source": [
    "# Function to search the data in a list\n",
    "# Search is found then return the index if not return -1\n",
    "def linearSearch1(li,tarItem):\n",
    "    for x in range (len(li)):\n",
    "        if li[x] == tarItem:\n",
    "            return x\n",
    "    return -1\n",
    "li = [1,19,6,2,8,18,3]\n",
    "n = int(input(\"Enter key Value: \"))\n",
    "linearSearch1(li,n)"
   ]
  },
  {
   "cell_type": "code",
   "execution_count": 83,
   "metadata": {},
   "outputs": [
    {
     "name": "stdout",
     "output_type": "stream",
     "text": [
      "1 4 8 "
     ]
    }
   ],
   "source": [
    "# Function \n",
    "# Input : [1,5,9,6,5,15,1,2,5], key = 5 # Duplicate\n",
    "# Output : 1 4 8 \n",
    "def linearSearch2(li,tarItem):\n",
    "    for x in range(len(li)):\n",
    "        if li[x] == tarItem : \n",
    "            print(x,end = \" \")\n",
    "    return\n",
    "li = [1,5,9,6,5,15,1,2,5]\n",
    "linearSearch2(li,5)\n",
    "    "
   ]
  },
  {
   "cell_type": "code",
   "execution_count": 93,
   "metadata": {},
   "outputs": [
    {
     "name": "stdout",
     "output_type": "stream",
     "text": [
      "!! !!!!! !!!!!!!!! "
     ]
    }
   ],
   "source": [
    "# Function\n",
    "# Input : List\n",
    "# Output : Seq of characters\n",
    "# Test Case\n",
    "# [1,5,9,6,5,15,1,2,5], tar = 5 -- !! !!!!! !!!!!!!!!\n",
    "def linearSearch3(li,tarItem):\n",
    "    for x in range(len(li)):\n",
    "        if li[x] == tarItem:\n",
    "            for i in range(x+1):\n",
    "                print(\"!\",end = \"\")\n",
    "            print(end= \" \")\n",
    "    return \n",
    "\n",
    "li = [1,5,9,6,5,15,1,2,5]\n",
    "linearSearch3(li,5)"
   ]
  },
  {
   "cell_type": "code",
   "execution_count": 97,
   "metadata": {},
   "outputs": [
    {
     "data": {
      "text/plain": [
       "60"
      ]
     },
     "execution_count": 97,
     "metadata": {},
     "output_type": "execute_result"
    }
   ],
   "source": [
    "# Function \n",
    "# Input : List\n",
    "# Output : Formatted \n",
    "# Test Case \n",
    "# [12,2,45,9,18,15,36]                45 + 16 = 60 \n",
    "# A list item which is perfectly multiple of 3 and 5\n",
    "\n",
    "def linearSearch4(lis):\n",
    "    sum = 0\n",
    "    for x in range (len(li)):\n",
    "        if li[x]%3 == 0 and li[x]%5 == 0 : \n",
    "            sum += li[x]\n",
    "    return sum\n",
    "\n",
    "li = [12,2,45,9,18,15,36]\n",
    "linearSearch4(li) # 60"
   ]
  },
  {
   "cell_type": "code",
   "execution_count": 109,
   "metadata": {},
   "outputs": [
    {
     "name": "stdout",
     "output_type": "stream",
     "text": [
      "1 3 8 15 5 "
     ]
    }
   ],
   "source": [
    "# Function \n",
    "# Input : List\n",
    "# Ouput : Formatted Output \n",
    "# Test Case :\n",
    "# [1,2,3,4,5] -- [1,38,15,5]            [1,1*3,2*4,3*5,5] -- Multipying alternate numbers\n",
    "# [6,5,2,8,2] -- [6,12,40,4,2]\n",
    "# 1. Print first and last as it is because first number does not have prvious and last does not have next number\n",
    "# 2. Need to mutiply the previous and next number\n",
    "def linearSearch5(li):\n",
    "    for x in range (len(li)):\n",
    "        if x == 0 or x == len(li)-1:\n",
    "            print(li[x],end= \" \")\n",
    "        else :\n",
    "            print(li[x-1]*li[x+1],end = \" \")\n",
    "    return\n",
    "\n",
    "li = [1,2,3,4,5]\n",
    "linearSearch5(li)"
   ]
  },
  {
   "cell_type": "code",
   "execution_count": 1,
   "metadata": {},
   "outputs": [
    {
     "name": "stdout",
     "output_type": "stream",
     "text": [
      "['gitam', 'geeks']\n"
     ]
    }
   ],
   "source": [
    "list = ['gitam']\n",
    "list.insert(1,'geeks')\n",
    "print(list)"
   ]
  },
  {
   "cell_type": "code",
   "execution_count": 17,
   "metadata": {},
   "outputs": [
    {
     "name": "stdout",
     "output_type": "stream",
     "text": [
      "1 9 19 22 "
     ]
    }
   ],
   "source": [
    "# Function\n",
    "# Input : List\n",
    "# Output : Formatted Output\n",
    "# Test Cases : \n",
    "# [1,6,9,4,16,19,22] -- 1 9 19 22 \n",
    "# 1. First and last element print as it is\n",
    "# 2. Both sides numbers are even then print it\n",
    "def linearSearch6(lis):\n",
    "    for x in range (len(lis)):\n",
    "        if x == 0 or x == len(lis)-1:\n",
    "            print(lis[x],end= \" \")\n",
    "        elif lis[x-1]%2==0 and lis[x+1]%2 == 0:\n",
    "            print(lis[x],end = \" \")\n",
    "    return \n",
    "\n",
    "lis = [1,6,9,4,16,19,22]\n",
    "linearSearch6(lis)"
   ]
  },
  {
   "cell_type": "markdown",
   "metadata": {},
   "source": [
    "### Number to List : \n",
    "- Input as a number\n",
    "- Expected Output will be list"
   ]
  },
  {
   "cell_type": "code",
   "execution_count": 23,
   "metadata": {},
   "outputs": [
    {
     "data": {
      "text/plain": [
       "[1, 4, 5, 6, 9]"
      ]
     },
     "execution_count": 23,
     "metadata": {},
     "output_type": "execute_result"
    }
   ],
   "source": [
    "# Function for Conversion -- Number to list\n",
    "# INPUT : Number\n",
    "# OUTPUT : List\n",
    "# Test Cases : \n",
    "# 14569 -- [1,4,5,6,9]\n",
    "# 1990 -- [1,9,9,0]\n",
    "def conversion(n) :\n",
    "    li = []\n",
    "    while n > 0:\n",
    "        r = n% 10\n",
    "        li.append(r)\n",
    "        n //= 10\n",
    "    li.reverse()\n",
    "    return li\n",
    "conversion(14569)"
   ]
  },
  {
   "cell_type": "code",
   "execution_count": 25,
   "metadata": {},
   "outputs": [
    {
     "data": {
      "text/plain": [
       "2"
      ]
     },
     "execution_count": 25,
     "metadata": {},
     "output_type": "execute_result"
    }
   ],
   "source": [
    "# Function to count the occurance of a character in a string \n",
    "# \"Python Programming\", P -> 2\n",
    "# \"Python Programming\", m -> 2\n",
    "def  countCharOccurance(s,c):\n",
    "    count = 0\n",
    "    for ch in s :\n",
    "        if ch == c :\n",
    "            count += 1\n",
    "    return count\n",
    "\n",
    "def countCharOccurance1(s,c):\n",
    "    return s.count(c)\n",
    "countCharOccurance1(\"Python Programming\",'P')"
   ]
  },
  {
   "cell_type": "markdown",
   "metadata": {},
   "source": [
    "### String to List Conversion : \n",
    "- Input will be string\n",
    "- Excepted output will be list\n"
   ]
  },
  {
   "cell_type": "code",
   "execution_count": 29,
   "metadata": {},
   "outputs": [
    {
     "data": {
      "text/plain": [
       "[1, 2, 3, 4, 5, 6]"
      ]
     },
     "execution_count": 29,
     "metadata": {},
     "output_type": "execute_result"
    }
   ],
   "source": [
    "# Function to convert the string to list\n",
    "# Test Case\n",
    "# \"1 2 3 4 5 6\" -- [1,2,3,4,5,6]\n",
    "def ListConversion(s):\n",
    "    li = s.split()\n",
    "    numberslist = []\n",
    "    for i in li :\n",
    "        numberslist.append(int(i))\n",
    "    return numberslist\n",
    "\n",
    "s = \"1 2 3 4 5 6\"\n",
    "ListConversion(s) "
   ]
  },
  {
   "cell_type": "markdown",
   "metadata": {},
   "source": [
    "### Sorting Algorithms : \n",
    "- Bubble Sort\n",
    "- Selection Sort\n",
    "- Insertion Sort\n"
   ]
  },
  {
   "cell_type": "markdown",
   "metadata": {},
   "source": [
    "### Bubble Sort :-\n",
    "- This algorithm compares theadj elements, if the first element is greater than the second element then its required to swap the elements."
   ]
  },
  {
   "cell_type": "code",
   "execution_count": 1,
   "metadata": {},
   "outputs": [
    {
     "data": {
      "text/plain": [
       "[1, 6, 3, 18, 19, 25]"
      ]
     },
     "execution_count": 1,
     "metadata": {},
     "output_type": "execute_result"
    }
   ],
   "source": [
    "def bubbleSort(ls):\n",
    "    for x in range (len(ls)-1):\n",
    "        for i in range(x,len(ls)-1):\n",
    "            if ls[i] > ls[i+1]:\n",
    "                ls[i],ls[i+1] = ls[i+1],ls[i]\n",
    "    return ls\n",
    "ls = [19,1,25,6,18,3]\n",
    "bubbleSort(ls)"
   ]
  },
  {
   "cell_type": "code",
   "execution_count": 5,
   "metadata": {},
   "outputs": [
    {
     "data": {
      "text/plain": [
       "14569"
      ]
     },
     "execution_count": 5,
     "metadata": {},
     "output_type": "execute_result"
    }
   ],
   "source": [
    "# Function to convert List to String\n",
    "#  [1,4,5,6,9] - 14569\n",
    "def assignment1(li):\n",
    "    sum = 0\n",
    "    for i in range(len(li)):\n",
    "        sum = sum * 10 + int(li[i])\n",
    "    return sum\n",
    "\n",
    "li = [1,4,5,6,9]\n",
    "assignment1(li)"
   ]
  },
  {
   "cell_type": "code",
   "execution_count": 11,
   "metadata": {},
   "outputs": [
    {
     "data": {
      "text/plain": [
       "46"
      ]
     },
     "execution_count": 11,
     "metadata": {},
     "output_type": "execute_result"
    }
   ],
   "source": [
    "# [1,4,5,6,9]  - 46(Consider only even numbers from list)\n",
    "def assignment2(li):\n",
    "    sum = 0\n",
    "    for i in range(len(li)):\n",
    "        if li[i]%2 == 0:\n",
    "            sum = sum * 10 + li[i]\n",
    "    return sum\n",
    "\n",
    "li = [1,4,5,6,9]\n",
    "assignment2(li)"
   ]
  },
  {
   "cell_type": "code",
   "execution_count": 18,
   "metadata": {},
   "outputs": [
    {
     "data": {
      "text/plain": [
       "[1, 4, 3, 16, 5]"
      ]
     },
     "execution_count": 18,
     "metadata": {},
     "output_type": "execute_result"
    }
   ],
   "source": [
    "# [1,2,3,4,5] - [1,4,3,16,5] (Consider only even number and square of it)\n",
    "def assignment3(li):\n",
    "    si = []\n",
    "    for i in range(len(li)):\n",
    "        if li[i]%2 == 0:  \n",
    "            si.append(li[i] ** 2)\n",
    "        else :\n",
    "            si.append(li[i])\n",
    "    return si\n",
    "\n",
    "li = [1,2,3,4,5]\n",
    "assignment3(li)"
   ]
  },
  {
   "cell_type": "code",
   "execution_count": 30,
   "metadata": {},
   "outputs": [
    {
     "data": {
      "text/plain": [
       "[15, 34, 31, 28, 4]"
      ]
     },
     "execution_count": 30,
     "metadata": {},
     "output_type": "execute_result"
    }
   ],
   "source": [
    "#  [15,19,12,16,4] - [15,34,31,28,4] (Need to add previous number to current number)\n",
    "def assignment4(li):\n",
    "    si = []\n",
    "    for i in range(len(li)):\n",
    "        if i == 0 or i == len(li)-1 :\n",
    "            si.append(li[i])\n",
    "        else :\n",
    "            si.append(li[i] + li[i-1])\n",
    "    return si\n",
    "\n",
    "li = [15,19,12,16,4]\n",
    "assignment4(li)"
   ]
  },
  {
   "cell_type": "code",
   "execution_count": null,
   "metadata": {},
   "outputs": [],
   "source": []
  }
 ],
 "metadata": {
  "kernelspec": {
   "display_name": "Python 3",
   "language": "python",
   "name": "python3"
  },
  "language_info": {
   "codemirror_mode": {
    "name": "ipython",
    "version": 3
   },
   "file_extension": ".py",
   "mimetype": "text/x-python",
   "name": "python",
   "nbconvert_exporter": "python",
   "pygments_lexer": "ipython3",
   "version": "3.7.1"
  }
 },
 "nbformat": 4,
 "nbformat_minor": 2
}
